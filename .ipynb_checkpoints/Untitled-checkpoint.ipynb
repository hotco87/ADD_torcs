{
 "cells": [
  {
   "cell_type": "code",
   "execution_count": 19,
   "id": "829f000e",
   "metadata": {},
   "outputs": [],
   "source": [
    "# https://colab.research.google.com/github/rickiepark/handson-ml2/blob/master/09_unsupervised_learning.ipynb#scrollTo=gVUvLmIYINmx\n",
    "# https://scikit-learn.org/stable/auto_examples/mixture/plot_gmm_selection.html#sphx-glr-auto-examples-mixture-plot-gmm-selection-pyhttps://scikit-learn.org/stable/auto_examples/mixture/plot_gmm_selection.html#sphx-glr-auto-examples-mixture-plot-gmm-selection-py\n",
    "import numpy as np\n",
    "\n",
    "s = np.load(\"./buffer_original_reward3/test_buffer_state.npy\")\n",
    "\n",
    "# print(np.shape(kk))\n",
    "# print(np.round(kk[0],3))\n",
    "# print(np.round(kk[5],3))\n",
    "# print(np.round(kk[25],3))\n",
    "# print(np.round(kk[75],3))\n",
    "# print(np.round(kk[200],3))"
   ]
  },
  {
   "cell_type": "code",
   "execution_count": 20,
   "id": "3a9fb761",
   "metadata": {},
   "outputs": [
    {
     "name": "stdout",
     "output_type": "stream",
     "text": [
      "(100000, 1)\n"
     ]
    }
   ],
   "source": [
    "print(np.shape(s[:,:1]))"
   ]
  },
  {
   "cell_type": "code",
   "execution_count": 21,
   "id": "1421a9b0",
   "metadata": {},
   "outputs": [
    {
     "name": "stdout",
     "output_type": "stream",
     "text": [
      "0.4996626104505912\n",
      "-0.002605747485478513\n",
      "######\n",
      "1.0\n",
      "0.0652845723608257\n",
      "######\n",
      "1.0\n",
      "0.20476731805975099\n",
      "######\n",
      "1.0\n",
      "0.25755408447685696\n",
      "######\n",
      "1.0\n",
      "0.30857134500117406\n",
      "######\n",
      "1.0\n",
      "0.348126513187656\n",
      "######\n",
      "1.0\n",
      "0.36490771561121366\n",
      "######\n",
      "1.0\n",
      "0.37073897853923266\n",
      "######\n",
      "1.0\n",
      "0.37390871636771117\n",
      "######\n",
      "1.0\n",
      "0.3748128369093903\n",
      "######\n",
      "1.0\n",
      "0.3741816902561745\n",
      "######\n",
      "1.0\n",
      "0.3723179214041232\n",
      "######\n",
      "1.0\n",
      "0.369208121286657\n",
      "######\n",
      "1.0\n",
      "0.36275697184725303\n",
      "######\n",
      "1.0\n",
      "0.3527154003544742\n",
      "######\n",
      "1.0\n",
      "0.32761700960344947\n",
      "######\n",
      "1.0\n",
      "0.26710034664719357\n",
      "######\n",
      "1.0\n",
      "0.18250490334061883\n",
      "######\n",
      "1.0\n",
      "0.10909698826812857\n",
      "######\n",
      "1.0\n",
      "0.04762781979631593\n",
      "######\n",
      "0.9970369935035706\n",
      "-0.1342705501026436\n",
      "######\n",
      "0.4670899963378906\n",
      "-0.0034583278743449282\n",
      "######\n",
      "0.6571166483561198\n",
      "0.3826045307894357\n",
      "######\n",
      "0.046822001139322916\n",
      "0.00020408400602010807\n",
      "######\n",
      "1.665679931640625\n",
      "0.949737432365391\n",
      "######\n",
      "1.6361199617385864\n",
      "0.9425749748854694\n",
      "######\n",
      "1.9391000270843506\n",
      "1.0018586350139955\n",
      "######\n",
      "1.9391000270843506\n",
      "1.0006100831963105\n",
      "######\n",
      "1.0187\n",
      "0.5157406336850585\n",
      "######\n"
     ]
    }
   ],
   "source": [
    "#np.max(s[:,:1])\n",
    "for i in range(29):\n",
    "    print(np.max(s[:,i:i+1]))\n",
    "    print(np.mean(s[:,i:i+1]))\n",
    "    print(\"######\")"
   ]
  },
  {
   "cell_type": "code",
   "execution_count": 22,
   "id": "4ed3ea16",
   "metadata": {},
   "outputs": [
    {
     "name": "stdout",
     "output_type": "stream",
     "text": [
      "kmeans_start\n"
     ]
    },
    {
     "ename": "KeyboardInterrupt",
     "evalue": "",
     "output_type": "error",
     "traceback": [
      "\u001b[0;31m---------------------------------------------------------------------------\u001b[0m",
      "\u001b[0;31mKeyboardInterrupt\u001b[0m                         Traceback (most recent call last)",
      "\u001b[0;32m<ipython-input-22-bbe02b6836eb>\u001b[0m in \u001b[0;36m<module>\u001b[0;34m\u001b[0m\n\u001b[1;32m      1\u001b[0m \u001b[0;32mfrom\u001b[0m \u001b[0msklearn\u001b[0m\u001b[0;34m.\u001b[0m\u001b[0mcluster\u001b[0m \u001b[0;32mimport\u001b[0m \u001b[0mKMeans\u001b[0m\u001b[0;34m\u001b[0m\u001b[0;34m\u001b[0m\u001b[0m\n\u001b[1;32m      2\u001b[0m \u001b[0mprint\u001b[0m\u001b[0;34m(\u001b[0m\u001b[0;34m\"kmeans_start\"\u001b[0m\u001b[0;34m)\u001b[0m\u001b[0;34m\u001b[0m\u001b[0;34m\u001b[0m\u001b[0m\n\u001b[0;32m----> 3\u001b[0;31m \u001b[0mkmeans\u001b[0m \u001b[0;34m=\u001b[0m \u001b[0mKMeans\u001b[0m\u001b[0;34m(\u001b[0m\u001b[0mn_clusters\u001b[0m\u001b[0;34m=\u001b[0m\u001b[0;36m100\u001b[0m\u001b[0;34m,\u001b[0m \u001b[0minit\u001b[0m\u001b[0;34m=\u001b[0m\u001b[0;34m'k-means++'\u001b[0m\u001b[0;34m,\u001b[0m\u001b[0mmax_iter\u001b[0m\u001b[0;34m=\u001b[0m\u001b[0;36m500\u001b[0m\u001b[0;34m,\u001b[0m \u001b[0mtol\u001b[0m\u001b[0;34m=\u001b[0m\u001b[0;36m1e-04\u001b[0m\u001b[0;34m)\u001b[0m\u001b[0;34m.\u001b[0m\u001b[0mfit\u001b[0m\u001b[0;34m(\u001b[0m\u001b[0ms\u001b[0m\u001b[0;34m)\u001b[0m\u001b[0;34m\u001b[0m\u001b[0;34m\u001b[0m\u001b[0m\n\u001b[0m\u001b[1;32m      4\u001b[0m \u001b[0mlabels\u001b[0m \u001b[0;34m=\u001b[0m \u001b[0mkmeans\u001b[0m\u001b[0;34m.\u001b[0m\u001b[0mlabels_\u001b[0m\u001b[0;34m\u001b[0m\u001b[0;34m\u001b[0m\u001b[0m\n\u001b[1;32m      5\u001b[0m \u001b[0mcenter\u001b[0m \u001b[0;34m=\u001b[0m \u001b[0mkmeans\u001b[0m\u001b[0;34m.\u001b[0m\u001b[0mcluster_centers_\u001b[0m\u001b[0;34m\u001b[0m\u001b[0;34m\u001b[0m\u001b[0m\n",
      "\u001b[0;32m~/anaconda3/envs/new/lib/python3.8/site-packages/sklearn/cluster/_kmeans.py\u001b[0m in \u001b[0;36mfit\u001b[0;34m(self, X, y, sample_weight)\u001b[0m\n\u001b[1;32m   1021\u001b[0m \u001b[0;34m\u001b[0m\u001b[0m\n\u001b[1;32m   1022\u001b[0m             \u001b[0;31m# run a k-means once\u001b[0m\u001b[0;34m\u001b[0m\u001b[0;34m\u001b[0m\u001b[0;34m\u001b[0m\u001b[0m\n\u001b[0;32m-> 1023\u001b[0;31m             labels, inertia, centers, n_iter_ = kmeans_single(\n\u001b[0m\u001b[1;32m   1024\u001b[0m                 \u001b[0mX\u001b[0m\u001b[0;34m,\u001b[0m \u001b[0msample_weight\u001b[0m\u001b[0;34m,\u001b[0m \u001b[0mcenters_init\u001b[0m\u001b[0;34m,\u001b[0m \u001b[0mmax_iter\u001b[0m\u001b[0;34m=\u001b[0m\u001b[0mself\u001b[0m\u001b[0;34m.\u001b[0m\u001b[0mmax_iter\u001b[0m\u001b[0;34m,\u001b[0m\u001b[0;34m\u001b[0m\u001b[0;34m\u001b[0m\u001b[0m\n\u001b[1;32m   1025\u001b[0m                 \u001b[0mverbose\u001b[0m\u001b[0;34m=\u001b[0m\u001b[0mself\u001b[0m\u001b[0;34m.\u001b[0m\u001b[0mverbose\u001b[0m\u001b[0;34m,\u001b[0m \u001b[0mtol\u001b[0m\u001b[0;34m=\u001b[0m\u001b[0mself\u001b[0m\u001b[0;34m.\u001b[0m\u001b[0m_tol\u001b[0m\u001b[0;34m,\u001b[0m\u001b[0;34m\u001b[0m\u001b[0;34m\u001b[0m\u001b[0m\n",
      "\u001b[0;32m~/anaconda3/envs/new/lib/python3.8/site-packages/sklearn/cluster/_kmeans.py\u001b[0m in \u001b[0;36m_kmeans_single_elkan\u001b[0;34m(X, sample_weight, centers_init, max_iter, verbose, x_squared_norms, tol, n_threads)\u001b[0m\n\u001b[1;32m    383\u001b[0m \u001b[0;34m\u001b[0m\u001b[0m\n\u001b[1;32m    384\u001b[0m     \u001b[0;32mfor\u001b[0m \u001b[0mi\u001b[0m \u001b[0;32min\u001b[0m \u001b[0mrange\u001b[0m\u001b[0;34m(\u001b[0m\u001b[0mmax_iter\u001b[0m\u001b[0;34m)\u001b[0m\u001b[0;34m:\u001b[0m\u001b[0;34m\u001b[0m\u001b[0;34m\u001b[0m\u001b[0m\n\u001b[0;32m--> 385\u001b[0;31m         elkan_iter(X, sample_weight, centers, centers_new,\n\u001b[0m\u001b[1;32m    386\u001b[0m                    \u001b[0mweight_in_clusters\u001b[0m\u001b[0;34m,\u001b[0m \u001b[0mcenter_half_distances\u001b[0m\u001b[0;34m,\u001b[0m\u001b[0;34m\u001b[0m\u001b[0;34m\u001b[0m\u001b[0m\n\u001b[1;32m    387\u001b[0m                    \u001b[0mdistance_next_center\u001b[0m\u001b[0;34m,\u001b[0m \u001b[0mupper_bounds\u001b[0m\u001b[0;34m,\u001b[0m \u001b[0mlower_bounds\u001b[0m\u001b[0;34m,\u001b[0m\u001b[0;34m\u001b[0m\u001b[0;34m\u001b[0m\u001b[0m\n",
      "\u001b[0;31mKeyboardInterrupt\u001b[0m: "
     ]
    }
   ],
   "source": [
    "from sklearn.cluster import KMeans\n",
    "print(\"kmeans_start\")\n",
    "kmeans = KMeans(n_clusters=100, init='k-means++',max_iter=500, tol=1e-04).fit(s)\n",
    "labels = kmeans.labels_\n",
    "center = kmeans.cluster_centers_"
   ]
  },
  {
   "cell_type": "code",
   "execution_count": null,
   "id": "12d635d9",
   "metadata": {},
   "outputs": [],
   "source": []
  },
  {
   "cell_type": "code",
   "execution_count": 24,
   "id": "2bcdffdf",
   "metadata": {},
   "outputs": [
    {
     "name": "stdout",
     "output_type": "stream",
     "text": [
      "[-22589665.7]\n",
      "-22589665.7\n"
     ]
    },
    {
     "name": "stderr",
     "output_type": "stream",
     "text": [
      "/home/joo/anaconda3/envs/new/lib/python3.8/site-packages/sklearn/mixture/_base.py:265: ConvergenceWarning: Initialization 1 did not converge. Try different init parameters, or increase max_iter, tol or check for degenerate data.\n",
      "  warnings.warn('Initialization %d did not converge. '\n"
     ]
    },
    {
     "name": "stdout",
     "output_type": "stream",
     "text": [
      "[-22589665.7 -22670186.5]\n",
      "-22670186.5\n",
      "[-22589665.7 -22670186.5 -22053090.5]\n",
      "-22670186.5\n",
      "[-22589665.7 -22670186.5 -22053090.5 -21235513.5]\n",
      "-22670186.5\n",
      "[-22589665.7 -22670186.5 -22053090.5 -21235513.5 -20375299.2]\n",
      "-22670186.5\n",
      "Selected GMM: full model, 300 components\n",
      "[-22589665.721080966, -22670186.475908503, -22053090.497527536, -21235513.519387543, -20375299.154837046]\n",
      "##########\n",
      "GaussianMixture(n_components=300)\n",
      "1\n"
     ]
    }
   ],
   "source": [
    "from sklearn import mixture\n",
    "n_components_range = range(100, 1000, 200)\n",
    "lowest_bic = np.infty\n",
    "bic = []\n",
    "# print(X.shape)\n",
    "# print(n_components_range)\n",
    "for n_components in n_components_range:\n",
    "#         print(n_components)\n",
    "        # Fit a Gaussian mixture with EM\n",
    "        gmm = mixture.GaussianMixture(n_components=n_components,\n",
    "                                      covariance_type='full')\n",
    "        gmm.fit(s)\n",
    "        bic.append(gmm.bic(s))\n",
    "        print(np.round(bic,1))\n",
    "        print(np.min(np.round(bic,1)))\n",
    "        if bic[-1] < lowest_bic:\n",
    "            lowest_bic = bic[-1]\n",
    "            best_gmm = gmm\n",
    "            \n",
    "print(f'Selected GMM: {best_gmm.covariance_type} model, '\n",
    "          f'{best_gmm.n_components} components')\n",
    "print(bic)\n",
    "print(\"##########\")\n",
    "print(best_gmm)\n",
    "print(np.argmin(bic))\n"
   ]
  },
  {
   "cell_type": "code",
   "execution_count": null,
   "id": "64d962ab",
   "metadata": {},
   "outputs": [],
   "source": [
    "# 100, 300, 500, 700, 900\n",
    "[-22589665.721080966, -22670186.475908503, -22053090.497527536, -21235513.519387543, -20375299.154837046]"
   ]
  },
  {
   "cell_type": "code",
   "execution_count": 28,
   "id": "3de5292f",
   "metadata": {},
   "outputs": [
    {
     "name": "stdout",
     "output_type": "stream",
     "text": [
      "100\n",
      "300\n",
      "900\n"
     ]
    }
   ],
   "source": []
  },
  {
   "cell_type": "code",
   "execution_count": null,
   "id": "3d3cc41e",
   "metadata": {},
   "outputs": [],
   "source": []
  },
  {
   "cell_type": "code",
   "execution_count": null,
   "id": "45f7e772",
   "metadata": {},
   "outputs": [],
   "source": []
  },
  {
   "cell_type": "code",
   "execution_count": null,
   "id": "9812f969",
   "metadata": {},
   "outputs": [],
   "source": []
  },
  {
   "cell_type": "code",
   "execution_count": null,
   "id": "b946a891",
   "metadata": {},
   "outputs": [],
   "source": [
    "import numpy as np\n",
    "import itertools\n",
    "\n",
    "from scipy import linalg\n",
    "import matplotlib.pyplot as plt\n",
    "import matplotlib as mpl\n",
    "\n",
    "from sklearn import mixture\n",
    "\n",
    "print(__doc__)\n",
    "\n",
    "# Number of samples per component\n",
    "n_samples = 500\n",
    "\n",
    "# Generate random sample, two components\n",
    "np.random.seed(0)\n",
    "C = np.array([[0., -0.1], [1.7, .4]])\n",
    "X = np.r_[np.dot(np.random.randn(n_samples, 2), C),\n",
    "          .7 * np.random.randn(n_samples, 2) + np.array([-6, 3])]\n",
    "print(X)\n",
    "print(X.shape)\n",
    "lowest_bic = np.infty\n",
    "bic = []\n",
    "n_components_range = range(1, 7)\n",
    "cv_types = ['spherical']#, 'tied', 'diag', 'full']\n",
    "cv_types = ['tied']#, 'tied', 'diag', 'full']\n",
    "cv_types = ['diag']#, 'tied', 'diag', 'full']\n",
    "cv_types = ['full']#, 'tied', 'diag', 'full']\n",
    "for cv_type in cv_types:\n",
    "    for n_components in n_components_range:\n",
    "        # Fit a Gaussian mixture with EM\n",
    "        gmm = mixture.GaussianMixture(n_components=n_components,\n",
    "                                      covariance_type=cv_type)\n",
    "        gmm.fit(X)\n",
    "        bic.append(gmm.bic(X))\n",
    "        if bic[-1] < lowest_bic:\n",
    "            lowest_bic = bic[-1]\n",
    "            best_gmm = gmm\n",
    "\n",
    "            \n",
    "print(f'Selected GMM: {best_gmm.covariance_type} model, '\n",
    "          f'{best_gmm.n_components} components')\n",
    "\n",
    "            \n",
    "# bic = np.array(bic)\n",
    "# color_iter = itertools.cycle(['navy', 'turquoise', 'cornflowerblue',\n",
    "#                               'darkorange'])\n",
    "# clf = best_gmm\n",
    "# bars = []\n",
    "\n",
    "# # Plot the BIC scores\n",
    "# plt.figure(figsize=(8, 6))\n",
    "# spl = plt.subplot(2, 1, 1)\n",
    "# for i, (cv_type, color) in enumerate(zip(cv_types, color_iter)):\n",
    "#     xpos = np.array(n_components_range) + .2 * (i - 2)\n",
    "#     bars.append(plt.bar(xpos, bic[i * len(n_components_range):\n",
    "#                                   (i + 1) * len(n_components_range)],\n",
    "#                         width=.2, color=color))\n",
    "# plt.xticks(n_components_range)\n",
    "# plt.ylim([bic.min() * 1.01 - .01 * bic.max(), bic.max()])\n",
    "# plt.title('BIC score per model')\n",
    "# xpos = np.mod(bic.argmin(), len(n_components_range)) + .65 +\\\n",
    "#     .2 * np.floor(bic.argmin() / len(n_components_range))\n",
    "# plt.text(xpos, bic.min() * 0.97 + .03 * bic.max(), '*', fontsize=14)\n",
    "# spl.set_xlabel('Number of components')\n",
    "# spl.legend([b[0] for b in bars], cv_types)\n",
    "\n",
    "# # Plot the winner\n",
    "# splot = plt.subplot(2, 1, 2)\n",
    "# Y_ = clf.predict(X)\n",
    "# for i, (mean, cov, color) in enumerate(zip(clf.means_, clf.covariances_,\n",
    "#                                            color_iter)):\n",
    "#     v, w = linalg.eigh(cov)\n",
    "#     if not np.any(Y_ == i):\n",
    "#         continue\n",
    "#     plt.scatter(X[Y_ == i, 0], X[Y_ == i, 1], .8, color=color)\n",
    "\n",
    "#     # Plot an ellipse to show the Gaussian component\n",
    "#     angle = np.arctan2(w[0][1], w[0][0])\n",
    "#     angle = 180. * angle / np.pi  # convert to degrees\n",
    "#     v = 2. * np.sqrt(2.) * np.sqrt(v)\n",
    "#     ell = mpl.patches.Ellipse(mean, v[0], v[1], 180. + angle, color=color)\n",
    "#     ell.set_clip_box(splot.bbox)\n",
    "#     ell.set_alpha(.5)\n",
    "#     splot.add_artist(ell)\n",
    "\n",
    "# plt.xticks(())\n",
    "# plt.yticks(())\n",
    "# plt.title(f'Selected GMM: {best_gmm.covariance_type} model, '\n",
    "#           f'{best_gmm.n_components} components')\n",
    "# plt.subplots_adjust(hspace=.35, bottom=.02)\n",
    "# plt.show()"
   ]
  },
  {
   "cell_type": "code",
   "execution_count": 3,
   "id": "331b1716",
   "metadata": {},
   "outputs": [],
   "source": [
    "# 파이썬 ≥3.5 필수\n",
    "import sys\n",
    "assert sys.version_info >= (3, 5)\n",
    "\n",
    "# 사이킷런 ≥0.20 필수\n",
    "import sklearn\n",
    "assert sklearn.__version__ >= \"0.20\"\n",
    "\n",
    "# 공통 모듈 임포트\n",
    "import numpy as np\n",
    "import os\n",
    "\n",
    "# 노트북 실행 결과를 동일하게 유지하기 위해\n",
    "np.random.seed(42)\n",
    "\n",
    "# 깔끔한 그래프 출력을 위해\n",
    "%matplotlib inline\n",
    "import matplotlib as mpl\n",
    "import matplotlib.pyplot as plt\n",
    "mpl.rc('axes', labelsize=14)\n",
    "mpl.rc('xtick', labelsize=12)\n",
    "mpl.rc('ytick', labelsize=12)\n",
    "\n",
    "# 그림을 저장할 위치\n",
    "PROJECT_ROOT_DIR = \".\"\n",
    "CHAPTER_ID = \"unsupervised_learning\"\n",
    "IMAGES_PATH = os.path.join(PROJECT_ROOT_DIR, \"images\", CHAPTER_ID)\n",
    "os.makedirs(IMAGES_PATH, exist_ok=True)\n",
    "\n",
    "def save_fig(fig_id, tight_layout=True, fig_extension=\"png\", resolution=300):\n",
    "    path = os.path.join(IMAGES_PATH, fig_id + \".\" + fig_extension)\n",
    "    print(\"그림 저장:\", fig_id)\n",
    "    if tight_layout:\n",
    "        plt.tight_layout()\n",
    "    plt.savefig(path, format=fig_extension, dpi=resolution)"
   ]
  },
  {
   "cell_type": "code",
   "execution_count": 1,
   "id": "e06ddcdb",
   "metadata": {},
   "outputs": [],
   "source": [
    "from sklearn.datasets import load_iris"
   ]
  },
  {
   "cell_type": "code",
   "execution_count": 2,
   "id": "b8d85002",
   "metadata": {},
   "outputs": [
    {
     "data": {
      "text/plain": [
       "array(['setosa', 'versicolor', 'virginica'], dtype='<U10')"
      ]
     },
     "execution_count": 2,
     "metadata": {},
     "output_type": "execute_result"
    }
   ],
   "source": [
    "data = load_iris()\n",
    "X = data.data\n",
    "y = data.target\n",
    "data.target_names"
   ]
  },
  {
   "cell_type": "code",
   "execution_count": 18,
   "id": "ab007e12",
   "metadata": {},
   "outputs": [
    {
     "name": "stdout",
     "output_type": "stream",
     "text": [
      "(150, 4)\n",
      "range(1, 20)\n",
      "Selected GMM: full model, 2 components\n",
      "GaussianMixture(n_components=2)\n",
      "[829.9781545093944, 574.0178327207459, 580.8612784697606, 629.8378488181004, 666.6137968709506, 689.7320809454445, 771.3406684188963, 821.7059125071135, 756.733300747226, 853.5960182518445, 914.3608512696576, 972.708713723189, 1007.591410341416, 952.4510519089516, 951.982320316897, 1004.9002731018738, 1159.8083810027254, 1134.6833061560083, 1179.7828860621298]\n",
      "1\n"
     ]
    }
   ],
   "source": [
    "from sklearn import mixture\n",
    "n_components_range = range(1, 20)\n",
    "lowest_bic = np.infty\n",
    "bic = []\n",
    "print(X.shape)\n",
    "print(n_components_range)\n",
    "for n_components in n_components_range:\n",
    "#         print(n_components)\n",
    "        # Fit a Gaussian mixture with EM\n",
    "        gmm = mixture.GaussianMixture(n_components=n_components,\n",
    "                                      covariance_type='full')\n",
    "        gmm.fit(X)\n",
    "        bic.append(gmm.bic(X))\n",
    "        if bic[-1] < lowest_bic:\n",
    "            lowest_bic = bic[-1]\n",
    "            best_gmm = gmm\n",
    "            \n",
    "print(f'Selected GMM: {best_gmm.covariance_type} model, '\n",
    "          f'{best_gmm.n_components} components')\n",
    "\n",
    "print(bic)\n",
    "print(\"##########\")\n",
    "print(best_gmm)\n",
    "print(np.argmin(bic))\n"
   ]
  },
  {
   "cell_type": "code",
   "execution_count": 8,
   "id": "35cd11bb",
   "metadata": {},
   "outputs": [
    {
     "data": {
      "text/plain": [
       "(150, 4)"
      ]
     },
     "execution_count": 8,
     "metadata": {},
     "output_type": "execute_result"
    }
   ],
   "source": [
    "X.shape"
   ]
  },
  {
   "cell_type": "code",
   "execution_count": null,
   "id": "4d16e7ec",
   "metadata": {},
   "outputs": [],
   "source": []
  },
  {
   "cell_type": "code",
   "execution_count": null,
   "id": "67d588c0",
   "metadata": {},
   "outputs": [],
   "source": []
  },
  {
   "cell_type": "code",
   "execution_count": null,
   "id": "e9ca2bf8",
   "metadata": {},
   "outputs": [],
   "source": [
    "from sklearn.mixture import GaussianMixture\n",
    "gm = GaussianMixture(n_components=10, n_init=10, random_state=42)\n",
    "gm.fit(X)\n",
    "gm.bic(X)"
   ]
  },
  {
   "cell_type": "code",
   "execution_count": null,
   "id": "d3ab1b13",
   "metadata": {},
   "outputs": [],
   "source": [
    "lowest_bic = np.infty\n",
    "bic = []\n",
    "n_components_range = range(1, 7)\n",
    "cv_types = ['spherical']#, 'tied', 'diag', 'full']\n",
    "cv_types = ['tied']#, 'tied', 'diag', 'full']\n",
    "cv_types = ['diag']#, 'tied', 'diag', 'full']\n",
    "cv_types = ['full']#, 'tied', 'diag', 'full']\n",
    "for cv_type in cv_types:\n",
    "    for n_components in n_components_range:\n",
    "        # Fit a Gaussian mixture with EM\n",
    "        gmm = mixture.GaussianMixture(n_components=n_components,\n",
    "                                      covariance_type=cv_type)\n",
    "        gmm.fit(X)\n",
    "        bic.append(gmm.bic(X))\n",
    "        if bic[-1] < lowest_bic:\n",
    "            lowest_bic = bic[-1]\n",
    "            best_gmm = gmm\n",
    "print(f'Selected GMM: {best_gmm.covariance_type} model, '\n",
    "          f'{best_gmm.n_components} components')"
   ]
  },
  {
   "cell_type": "code",
   "execution_count": null,
   "id": "2ed0de67",
   "metadata": {},
   "outputs": [],
   "source": []
  }
 ],
 "metadata": {
  "kernelspec": {
   "display_name": "Python 3",
   "language": "python",
   "name": "python3"
  },
  "language_info": {
   "codemirror_mode": {
    "name": "ipython",
    "version": 3
   },
   "file_extension": ".py",
   "mimetype": "text/x-python",
   "name": "python",
   "nbconvert_exporter": "python",
   "pygments_lexer": "ipython3",
   "version": "3.8.10"
  }
 },
 "nbformat": 4,
 "nbformat_minor": 5
}
